{
 "cells": [
  {
   "cell_type": "markdown",
   "id": "836931e9-0586-478b-9c0c-87f16d33c97a",
   "metadata": {},
   "source": [
    "# API Tests"
   ]
  },
  {
   "cell_type": "code",
   "execution_count": 49,
   "id": "90475882-4a6e-4168-9c46-bb2b44025c98",
   "metadata": {},
   "outputs": [],
   "source": [
    "import random, string\n",
    "\n",
    "def gen_url():\n",
    "    letters = string.ascii_lowercase\n",
    "    protocols = [\"http://\", \"https://\", \"ftp://\"]\n",
    "    level1s = [\".com\", \".ru\", \".fr\", \".uk\"]\n",
    "    domain = ''.join(random.choice(letters) for i in range(8))\n",
    "    path = ''.join(random.choice(letters) for i in range(15))\n",
    "    return random.choice(protocols) + domain + random.choice(level1s) + \"/\" + path"
   ]
  },
  {
   "cell_type": "markdown",
   "id": "f257c25e-2d95-445a-ad75-2f058f49d57b",
   "metadata": {},
   "source": [
    "## 1. GRPC"
   ]
  },
  {
   "cell_type": "markdown",
   "id": "4771397c-e6f5-4951-bf3e-7908063aafd4",
   "metadata": {},
   "source": [
    "### 1.1 Set up"
   ]
  },
  {
   "cell_type": "code",
   "execution_count": 50,
   "id": "c5adbc03-b527-429f-b194-19ddae4de6e8",
   "metadata": {},
   "outputs": [],
   "source": [
    "!python -m grpc_tools.protoc -I../api/proto/ --python_out=. --pyi_out=. --grpc_python_out=. ../api/proto/links.proto"
   ]
  },
  {
   "cell_type": "code",
   "execution_count": 51,
   "id": "d074fe8e-1e76-4fef-8145-4ad5d3bb2d35",
   "metadata": {},
   "outputs": [],
   "source": [
    "import grpc\n",
    "import links_pb2_grpc\n",
    "\n",
    "channel = grpc.insecure_channel('localhost:50051')\n",
    "stub = links_pb2_grpc.LinkServiceStub(channel)"
   ]
  },
  {
   "cell_type": "code",
   "execution_count": 52,
   "id": "74aef32f-1d2c-4aed-beca-20c97d1ac77c",
   "metadata": {},
   "outputs": [],
   "source": [
    "import links_pb2\n",
    "import re\n",
    "\n",
    "status_pattern = re.compile(\"StatusCode.([A-Z_]+)\\n\")\n",
    "\n",
    "def extract_error(string):\n",
    "    return status_pattern.search(string).group(1)\n",
    "\n",
    "def create_link_grpc(url):\n",
    "    try:\n",
    "        request = links_pb2.CreateLinkRequest(url=str(url))\n",
    "        result = stub.CreateLink(request)\n",
    "        return result.alias\n",
    "    except grpc.RpcError as e:\n",
    "        return extract_error(str(e))\n",
    "        \n",
    "\n",
    "def get_link_grpc(alias):\n",
    "    try:\n",
    "        request = links_pb2.GetLinkRequest(alias=str(alias))\n",
    "        result = stub.GetLink(request)\n",
    "        return result.url\n",
    "    except grpc.RpcError as e:\n",
    "        return extract_error(str(e))\n",
    "\n",
    "def grpc_must_already_exists(url):\n",
    "    return create_link_grpc(url) == \"ALREADY_EXISTS\"\n",
    "\n",
    "def grpc_must_not_found(alias):\n",
    "    return get_link_grpc(url) == \"NOT_FOUND\"\n",
    "\n",
    "def grpc_must_bad_input(url):\n",
    "    return create_link_grpc(url) == \"INVALID_ARGUMENT\"\n",
    "\n",
    "def grpc_must_ok():\n",
    "    url = gen_url()\n",
    "    alias = create_link_grpc(url)\n",
    "    resp = get_link_grpc(alias)\n",
    "    res = resp == url\n",
    "    if not res:\n",
    "        print(f\"Wrong result for:\\nurl: {url}\\nalias: {alias}\\ngot response: {resp}\")\n",
    "    return res"
   ]
  },
  {
   "cell_type": "markdown",
   "id": "35fdb913-f87e-40a0-afcc-e448029d1f14",
   "metadata": {},
   "source": [
    "### 1.2 Run tests"
   ]
  },
  {
   "cell_type": "markdown",
   "id": "07ca8650-3b49-432c-a361-c01dc68b9182",
   "metadata": {
    "jp-MarkdownHeadingCollapsed": true
   },
   "source": [
    "#### 1.2.1 Launch app"
   ]
  },
  {
   "cell_type": "code",
   "execution_count": 53,
   "id": "7d5f9ce7-81f2-498c-bc46-d7844f8cf50d",
   "metadata": {},
   "outputs": [
    {
     "name": "stdout",
     "output_type": "stream",
     "text": [
      "\u001b[1A\u001b[1B\u001b[0G\u001b[?25l[+] Running 2/0\n",
      " \u001b[32m✔\u001b[0m Container golinkcut_db_test      \u001b[32mRunni...\u001b[0m                               \u001b[34m0.0s \u001b[0m\n",
      " \u001b[32m✔\u001b[0m Container for-tests-golinkcut-1  \u001b[32mR...\u001b[0m                                   \u001b[34m0.0s \u001b[0m\n",
      "\u001b[?25h"
     ]
    }
   ],
   "source": [
    "!sudo docker compose -f with_flags-compose.yml up -d"
   ]
  },
  {
   "cell_type": "markdown",
   "id": "ae587f2f-c23d-4aec-a564-d88ef36b6d67",
   "metadata": {},
   "source": [
    "#### 1.2.2 Run tests"
   ]
  },
  {
   "cell_type": "code",
   "execution_count": 55,
   "id": "8a4f0d95-a51b-4f4f-afa6-6a4ae6d779d5",
   "metadata": {},
   "outputs": [
    {
     "name": "stdout",
     "output_type": "stream",
     "text": [
      "trying normal tests:\n",
      "OK\n",
      "tests with errors:\n",
      "OK\n",
      "OK\n",
      "OK\n"
     ]
    }
   ],
   "source": [
    "print(\"trying normal tests:\")\n",
    "ok = True\n",
    "for i in range(15):\n",
    "    if not grpc_must_ok():\n",
    "        ok = False\n",
    "if ok:\n",
    "    print(\"OK\")\n",
    "\n",
    "print(\"tests with errors:\")\n",
    "\n",
    "ok = True\n",
    "url = gen_url()\n",
    "alias = create_link_grpc(url)\n",
    "if grpc_must_already_exists(url):\n",
    "    print(\"OK\")\n",
    "else:\n",
    "    print(f\"Could not get ERROR_EXISTS_ALREADY\")\n",
    "\n",
    "if grpc_must_not_found(\"0123456789\"):\n",
    "    print(\"OK\")\n",
    "else:\n",
    "    print(\"Could not get NOT_FOUND_ERROR\")\n",
    "\n",
    "if grpc_must_bad_input(\"not-a-url-at-all\"):\n",
    "    print(\"OK\")\n",
    "else:\n",
    "    print(f\"Wrong! Should be INVALID_ARGUMENT\")"
   ]
  },
  {
   "cell_type": "markdown",
   "id": "c969511e-9068-485a-b86c-1e1b0bbc3665",
   "metadata": {},
   "source": [
    "#### 1.2.3 Stop app"
   ]
  },
  {
   "cell_type": "code",
   "execution_count": 56,
   "id": "5b646b85-da5a-490f-8c8f-96851d2243eb",
   "metadata": {},
   "outputs": [
    {
     "name": "stdout",
     "output_type": "stream",
     "text": [
      "\u001b[1A\u001b[1B\u001b[0G\u001b[?25l[+] Running 1/0\n",
      " \u001b[32m✔\u001b[0m Container golinkcut_db_test      \u001b[32mRemov...\u001b[0m                               \u001b[34m0.0s \u001b[0m\n",
      " ⠋ Container for-tests-golinkcut-1  S...                                   \u001b[34m0.1s \u001b[0m\n",
      "\u001b[?25h\u001b[1A\u001b[1A\u001b[1A\u001b[0G\u001b[?25l[+] Running 1/2\n",
      " \u001b[32m✔\u001b[0m Container golinkcut_db_test      \u001b[32mRemov...\u001b[0m                               \u001b[34m0.0s \u001b[0m\n",
      " ⠙ Container for-tests-golinkcut-1  S...                                   \u001b[34m0.2s \u001b[0m\n",
      "\u001b[?25h\u001b[1A\u001b[1A\u001b[1A\u001b[0G\u001b[?25l\u001b[34m[+] Running 2/2\u001b[0m\n",
      " \u001b[32m✔\u001b[0m Container golinkcut_db_test      \u001b[32mRemov...\u001b[0m                               \u001b[34m0.0s \u001b[0m\n",
      " \u001b[32m✔\u001b[0m Container for-tests-golinkcut-1  \u001b[32mR...\u001b[0m                                   \u001b[34m0.3s \u001b[0m\n",
      " ⠋ Network for-tests_default        Removin...                             \u001b[34m0.0s \u001b[0m\n",
      "\u001b[?25h\u001b[1A\u001b[1A\u001b[1A\u001b[1A\u001b[0G\u001b[?25l[+] Running 2/3\n",
      " \u001b[32m✔\u001b[0m Container golinkcut_db_test      \u001b[32mRemov...\u001b[0m                               \u001b[34m0.0s \u001b[0m\n",
      " \u001b[32m✔\u001b[0m Container for-tests-golinkcut-1  \u001b[32mR...\u001b[0m                                   \u001b[34m0.3s \u001b[0m\n",
      " ⠙ Network for-tests_default        Removin...                             \u001b[34m0.1s \u001b[0m\n",
      "\u001b[?25h\u001b[1A\u001b[1A\u001b[1A\u001b[1A\u001b[0G\u001b[?25l\u001b[34m[+] Running 3/3\u001b[0m\n",
      " \u001b[32m✔\u001b[0m Container golinkcut_db_test      \u001b[32mRemov...\u001b[0m                               \u001b[34m0.0s \u001b[0m\n",
      " \u001b[32m✔\u001b[0m Container for-tests-golinkcut-1  \u001b[32mR...\u001b[0m                                   \u001b[34m0.3s \u001b[0m\n",
      " \u001b[32m✔\u001b[0m Network for-tests_default        \u001b[32mRemoved\u001b[0m                                \u001b[34m0.2s \u001b[0m\n",
      "\u001b[?25h"
     ]
    }
   ],
   "source": [
    "!cd .. && sudo docker compose -f ./for-tests/with_flags-compose.yml down"
   ]
  },
  {
   "cell_type": "markdown",
   "id": "8b6fe7bf-a3c6-42db-91df-7f928e473067",
   "metadata": {},
   "source": [
    "## 2. REST API"
   ]
  },
  {
   "cell_type": "markdown",
   "id": "72158df9-ec66-47b2-b24e-306778f6fd84",
   "metadata": {},
   "source": [
    "### 2.1. Preapare"
   ]
  },
  {
   "cell_type": "code",
   "execution_count": 42,
   "id": "a3fd69b6-b2bf-4eab-9f20-584a22439cd1",
   "metadata": {},
   "outputs": [],
   "source": [
    "import urllib3, json\n",
    "\n",
    "def create_link_rest(url):\n",
    "    data = json.dumps({\n",
    "        \"url\": url,\n",
    "    })\n",
    "    r = urllib3.request(\n",
    "        'POST',\n",
    "        'http://localhost:8080/new',\n",
    "        headers = {\n",
    "            'Content-Type': 'application/json'\n",
    "        },\n",
    "        body = data\n",
    "    )\n",
    "    return r\n",
    "\n",
    "def get_link(alias):\n",
    "    r = urllib3.request(\n",
    "        'GET',\n",
    "        'http://localhost:8080/'+alias,\n",
    "    )\n",
    "    return r"
   ]
  },
  {
   "cell_type": "markdown",
   "id": "f2d55faf-eb84-49d9-82c3-fd916e17db0c",
   "metadata": {},
   "source": [
    "### 2.2 Run tests"
   ]
  },
  {
   "cell_type": "markdown",
   "id": "1ae65973-faa7-4956-9c8b-c38a89d7dffe",
   "metadata": {
    "jp-MarkdownHeadingCollapsed": true
   },
   "source": [
    "#### 2.2.1 Launch app"
   ]
  },
  {
   "cell_type": "code",
   "execution_count": 40,
   "id": "d2f4e8e1-9b41-42de-bb0a-cb0ff5a493ed",
   "metadata": {},
   "outputs": [
    {
     "name": "stdout",
     "output_type": "stream",
     "text": [
      "\u001b[1A\u001b[1B\u001b[0G\u001b[?25l[+] Running 0/0\n",
      " ⠋ Network for-tests_default  Creating                                     \u001b[34m0.1s \u001b[0m\n",
      "\u001b[?25h\u001b[1A\u001b[1A\u001b[0G\u001b[?25l\u001b[34m[+] Running 1/1\u001b[0m\n",
      " \u001b[32m✔\u001b[0m Network for-tests_default        \u001b[32mCreated\u001b[0m                                \u001b[34m0.2s \u001b[0m\n",
      " ⠋ Container for-tests-golinkcut-1  C...                                   \u001b[34m0.0s \u001b[0m\n",
      " ⠋ Container golinkcut_db_test      Creat...                               \u001b[34m0.0s \u001b[0m\n",
      "\u001b[?25h\u001b[1A\u001b[1A\u001b[1A\u001b[1A\u001b[0G\u001b[?25l\u001b[34m[+] Running 3/3\u001b[0m\n",
      " \u001b[32m✔\u001b[0m Network for-tests_default        \u001b[32mCreated\u001b[0m                                \u001b[34m0.2s \u001b[0m\n",
      " \u001b[32m✔\u001b[0m Container for-tests-golinkcut-1  \u001b[32mC...\u001b[0m                                   \u001b[34m0.1s \u001b[0m\n",
      " \u001b[32m✔\u001b[0m Container golinkcut_db_test      \u001b[32mCreat...\u001b[0m                               \u001b[34m0.1s \u001b[0m\n",
      "\u001b[?25h\u001b[1A\u001b[1A\u001b[1A\u001b[1A\u001b[0G\u001b[?25l\u001b[34m[+] Running 3/3\u001b[0m\n",
      " \u001b[32m✔\u001b[0m Network for-tests_default        \u001b[32mCreated\u001b[0m                                \u001b[34m0.2s \u001b[0m\n",
      " \u001b[32m✔\u001b[0m Container for-tests-golinkcut-1  \u001b[32mC...\u001b[0m                                   \u001b[34m0.1s \u001b[0m\n",
      " \u001b[32m✔\u001b[0m Container golinkcut_db_test      \u001b[32mCreat...\u001b[0m                               \u001b[34m0.1s \u001b[0m\n",
      "\u001b[?25h\u001b[1A\u001b[1A\u001b[1A\u001b[1A\u001b[0G\u001b[?25l\u001b[34m[+] Running 3/3\u001b[0m\n",
      " \u001b[32m✔\u001b[0m Network for-tests_default        \u001b[32mCreated\u001b[0m                                \u001b[34m0.2s \u001b[0m\n",
      " \u001b[32m✔\u001b[0m Container for-tests-golinkcut-1  \u001b[32mC...\u001b[0m                                   \u001b[34m0.1s \u001b[0m\n",
      " \u001b[32m✔\u001b[0m Container golinkcut_db_test      \u001b[32mCreat...\u001b[0m                               \u001b[34m0.1s \u001b[0m\n",
      "\u001b[?25h\u001b[1A\u001b[1A\u001b[1A\u001b[1A\u001b[0G\u001b[?25l\u001b[34m[+] Running 3/3\u001b[0m\n",
      " \u001b[32m✔\u001b[0m Network for-tests_default        \u001b[32mCreated\u001b[0m                                \u001b[34m0.2s \u001b[0m\n",
      " \u001b[32m✔\u001b[0m Container for-tests-golinkcut-1  \u001b[32mC...\u001b[0m                                   \u001b[34m0.1s \u001b[0m\n",
      " \u001b[32m✔\u001b[0m Container golinkcut_db_test      \u001b[32mCreat...\u001b[0m                               \u001b[34m0.1s \u001b[0m\n",
      "\u001b[?25h\u001b[1A\u001b[1A\u001b[1A\u001b[1A\u001b[0G\u001b[?25l\u001b[34m[+] Running 3/3\u001b[0m\n",
      " \u001b[32m✔\u001b[0m Network for-tests_default        \u001b[32mCreated\u001b[0m                                \u001b[34m0.2s \u001b[0m\n",
      " \u001b[32m✔\u001b[0m Container for-tests-golinkcut-1  \u001b[32mC...\u001b[0m                                   \u001b[34m0.1s \u001b[0m\n",
      " \u001b[32m✔\u001b[0m Container golinkcut_db_test      \u001b[32mCreat...\u001b[0m                               \u001b[34m0.1s \u001b[0m\n",
      "\u001b[?25h\u001b[1A\u001b[1A\u001b[1A\u001b[1A\u001b[0G\u001b[?25l\u001b[34m[+] Running 3/3\u001b[0m\n",
      " \u001b[32m✔\u001b[0m Network for-tests_default        \u001b[32mCreated\u001b[0m                                \u001b[34m0.2s \u001b[0m\n",
      " \u001b[32m✔\u001b[0m Container for-tests-golinkcut-1  \u001b[32mC...\u001b[0m                                   \u001b[34m0.1s \u001b[0m\n",
      " \u001b[32m✔\u001b[0m Container golinkcut_db_test      \u001b[32mStart...\u001b[0m                               \u001b[34m0.1s \u001b[0m\n",
      "\u001b[?25h\u001b[1A\u001b[1A\u001b[1A\u001b[1A\u001b[0G\u001b[?25l\u001b[34m[+] Running 3/3\u001b[0m\n",
      " \u001b[32m✔\u001b[0m Network for-tests_default        \u001b[32mCreated\u001b[0m                                \u001b[34m0.2s \u001b[0m\n",
      " \u001b[32m✔\u001b[0m Container for-tests-golinkcut-1  \u001b[32mS...\u001b[0m                                   \u001b[34m0.1s \u001b[0m\n",
      " \u001b[32m✔\u001b[0m Container golinkcut_db_test      \u001b[32mStart...\u001b[0m                               \u001b[34m0.1s \u001b[0m\n",
      "\u001b[?25h"
     ]
    }
   ],
   "source": [
    "!sudo docker compose -f with_flags-compose.yml up -d"
   ]
  },
  {
   "cell_type": "markdown",
   "id": "be471f6d-0207-4649-a975-3eea181f4ea9",
   "metadata": {},
   "source": [
    "#### 2.2.2 Run tests"
   ]
  },
  {
   "cell_type": "code",
   "execution_count": 43,
   "id": "8070a478-bf32-4071-b920-53802764e08e",
   "metadata": {},
   "outputs": [
    {
     "data": {
      "text/plain": [
       "{'shortLink': 'localhost/aMTpYzGLAC'}"
      ]
     },
     "execution_count": 43,
     "metadata": {},
     "output_type": "execute_result"
    }
   ],
   "source": [
    "create_link_rest(gen_url())"
   ]
  },
  {
   "cell_type": "markdown",
   "id": "db74e7ac-8da9-418f-95f6-9a341630e7fd",
   "metadata": {
    "jp-MarkdownHeadingCollapsed": true
   },
   "source": [
    "#### 2.2.3 Stop app"
   ]
  },
  {
   "cell_type": "code",
   "execution_count": 31,
   "id": "19c7dc8c-3b5e-4a59-8cc1-a1bd112f9ed1",
   "metadata": {},
   "outputs": [
    {
     "name": "stdout",
     "output_type": "stream",
     "text": [
      "\u001b[1A\u001b[1B\u001b[0G\u001b[?25l[+] Running 0/0\n",
      " ⠋ Container for-tests-golinkcut-1  S...                                   \u001b[34m0.1s \u001b[0m\n",
      " ⠋ Container golinkcut_db_test      Stopp...                               \u001b[34m0.1s \u001b[0m\n",
      "\u001b[?25h\u001b[1A\u001b[1A\u001b[1A\u001b[0G\u001b[?25l[+] Running 0/2\n",
      " ⠙ Container for-tests-golinkcut-1  S...                                   \u001b[34m0.2s \u001b[0m\n",
      " ⠙ Container golinkcut_db_test      Stopp...                               \u001b[34m0.2s \u001b[0m\n",
      "\u001b[?25h\u001b[1A\u001b[1A\u001b[1A\u001b[0G\u001b[?25l[+] Running 1/2\n",
      " \u001b[32m✔\u001b[0m Container for-tests-golinkcut-1  \u001b[32mR...\u001b[0m                                   \u001b[34m0.3s \u001b[0m\n",
      " ⠹ Container golinkcut_db_test      Stopp...                               \u001b[34m0.3s \u001b[0m\n",
      "\u001b[?25h\u001b[1A\u001b[1A\u001b[1A\u001b[0G\u001b[?25l[+] Running 1/2\n",
      " \u001b[32m✔\u001b[0m Container for-tests-golinkcut-1  \u001b[32mR...\u001b[0m                                   \u001b[34m0.3s \u001b[0m\n",
      " ⠸ Container golinkcut_db_test      Stopp...                               \u001b[34m0.4s \u001b[0m\n",
      "\u001b[?25h\u001b[1A\u001b[1A\u001b[1A\u001b[0G\u001b[?25l\u001b[34m[+] Running 2/2\u001b[0m\n",
      " \u001b[32m✔\u001b[0m Container for-tests-golinkcut-1  \u001b[32mR...\u001b[0m                                   \u001b[34m0.3s \u001b[0m\n",
      " \u001b[32m✔\u001b[0m Container golinkcut_db_test      \u001b[32mRemov...\u001b[0m                               \u001b[34m0.5s \u001b[0m\n",
      " ⠋ Network for-tests_default        Removin...                             \u001b[34m0.0s \u001b[0m\n",
      "\u001b[?25h\u001b[1A\u001b[1A\u001b[1A\u001b[1A\u001b[0G\u001b[?25l[+] Running 2/3\n",
      " \u001b[32m✔\u001b[0m Container for-tests-golinkcut-1  \u001b[32mR...\u001b[0m                                   \u001b[34m0.3s \u001b[0m\n",
      " \u001b[32m✔\u001b[0m Container golinkcut_db_test      \u001b[32mRemov...\u001b[0m                               \u001b[34m0.5s \u001b[0m\n",
      " ⠙ Network for-tests_default        Removin...                             \u001b[34m0.1s \u001b[0m\n",
      "\u001b[?25h\u001b[1A\u001b[1A\u001b[1A\u001b[1A\u001b[0G\u001b[?25l\u001b[34m[+] Running 3/3\u001b[0m\n",
      " \u001b[32m✔\u001b[0m Container for-tests-golinkcut-1  \u001b[32mR...\u001b[0m                                   \u001b[34m0.3s \u001b[0m\n",
      " \u001b[32m✔\u001b[0m Container golinkcut_db_test      \u001b[32mRemov...\u001b[0m                               \u001b[34m0.5s \u001b[0m\n",
      " \u001b[32m✔\u001b[0m Network for-tests_default        \u001b[32mRemoved\u001b[0m                                \u001b[34m0.2s \u001b[0m\n",
      "\u001b[?25h"
     ]
    }
   ],
   "source": [
    "!sudo docker compose -f with_flags-compose.yml down"
   ]
  },
  {
   "cell_type": "markdown",
   "id": "975ccaaf-1094-4ada-ba71-91d795afa20f",
   "metadata": {},
   "source": [
    "## 3. Both"
   ]
  },
  {
   "cell_type": "code",
   "execution_count": null,
   "id": "ef7d7a93-40d6-437f-84d7-96bb17f2b504",
   "metadata": {},
   "outputs": [],
   "source": []
  }
 ],
 "metadata": {
  "kernelspec": {
   "display_name": "Python 3 (ipykernel)",
   "language": "python",
   "name": "python3"
  },
  "language_info": {
   "codemirror_mode": {
    "name": "ipython",
    "version": 3
   },
   "file_extension": ".py",
   "mimetype": "text/x-python",
   "name": "python",
   "nbconvert_exporter": "python",
   "pygments_lexer": "ipython3",
   "version": "3.11.6"
  }
 },
 "nbformat": 4,
 "nbformat_minor": 5
}
