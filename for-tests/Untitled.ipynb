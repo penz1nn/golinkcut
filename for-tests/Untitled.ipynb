{
 "cells": [
  {
   "cell_type": "markdown",
   "id": "836931e9-0586-478b-9c0c-87f16d33c97a",
   "metadata": {},
   "source": [
    "# API Tests"
   ]
  },
  {
   "cell_type": "code",
   "execution_count": 15,
   "id": "90475882-4a6e-4168-9c46-bb2b44025c98",
   "metadata": {},
   "outputs": [],
   "source": [
    "import random, string\n",
    "\n",
    "def gen_url():\n",
    "    letters = string.ascii_lowercase\n",
    "    protocols = [\"http://\", \"https://\", \"ftp://\"]\n",
    "    level1s = [\".com\", \".ru\", \".fr\", \".uk\"]\n",
    "    domain = ''.join(random.choice(letters) for i in range(8))\n",
    "    path = ''.join(random.choice(letters) for i in range(15))\n",
    "    return random.choice(protocols) + domain + random.choice(level1s) + \"/\" + path"
   ]
  },
  {
   "cell_type": "markdown",
   "id": "f257c25e-2d95-445a-ad75-2f058f49d57b",
   "metadata": {},
   "source": [
    "## 1. GRPC"
   ]
  },
  {
   "cell_type": "markdown",
   "id": "4771397c-e6f5-4951-bf3e-7908063aafd4",
   "metadata": {},
   "source": [
    "### 1.1 Set up"
   ]
  },
  {
   "cell_type": "code",
   "execution_count": 16,
   "id": "c5adbc03-b527-429f-b194-19ddae4de6e8",
   "metadata": {},
   "outputs": [],
   "source": [
    "!python -m grpc_tools.protoc -I../api/proto/ --python_out=. --pyi_out=. --grpc_python_out=. ../api/proto/links.proto"
   ]
  },
  {
   "cell_type": "code",
   "execution_count": 17,
   "id": "d074fe8e-1e76-4fef-8145-4ad5d3bb2d35",
   "metadata": {},
   "outputs": [],
   "source": [
    "import grpc\n",
    "import links_pb2_grpc\n",
    "\n",
    "channel = grpc.insecure_channel('localhost:50051')\n",
    "stub = links_pb2_grpc.LinkServiceStub(channel)"
   ]
  },
  {
   "cell_type": "code",
   "execution_count": 31,
   "id": "74aef32f-1d2c-4aed-beca-20c97d1ac77c",
   "metadata": {},
   "outputs": [],
   "source": [
    "import links_pb2\n",
    "import re\n",
    "\n",
    "status_pattern = re.compile(\"StatusCode.([A-Z_]+)\\n\")\n",
    "\n",
    "def extract_error(string):\n",
    "    return status_pattern.search(string).group(1)\n",
    "\n",
    "def create_link_grpc(url):\n",
    "    try:\n",
    "        request = links_pb2.CreateLinkRequest(url=str(url))\n",
    "        result = stub.CreateLink(request)\n",
    "        return result.alias\n",
    "    except grpc.RpcError as e:\n",
    "        return extract_error(str(e))\n",
    "        \n",
    "\n",
    "def get_link_grpc(alias):\n",
    "    try:\n",
    "        request = links_pb2.GetLinkRequest(alias=str(alias))\n",
    "        result = stub.GetLink(request)\n",
    "        return result.url\n",
    "    except grpc.RpcError as e:\n",
    "        return extract_error(str(e))"
   ]
  },
  {
   "cell_type": "markdown",
   "id": "35fdb913-f87e-40a0-afcc-e448029d1f14",
   "metadata": {},
   "source": [
    "### 1.2 Run tests"
   ]
  },
  {
   "cell_type": "code",
   "execution_count": 43,
   "id": "7d5f9ce7-81f2-498c-bc46-d7844f8cf50d",
   "metadata": {},
   "outputs": [
    {
     "name": "stdout",
     "output_type": "stream",
     "text": [
      "Error response from daemon: driver failed programming external connectivity on endpoint golinkcut-golinkcut-run-5a25ccae8baa (2697fbe1aeb992df9315a9be78bd0111520979dfae6ed35a18c7b81982278435): Bind for 0.0.0.0:50051 failed: port is already allocated\n",
      "Error: failed to start containers: 5f0e8606579a211ae69065d392036d8f253fc89efce58adc2cedda551d9b6c87\n"
     ]
    }
   ],
   "source": [
    "!cd .. && sudo docker compose -f golinkcut_postgres-compose.yml run -d --service-ports golinkcut /go/bin/golinkcut --db-host golinkcut_db --validater"
   ]
  },
  {
   "cell_type": "code",
   "execution_count": 42,
   "id": "8a4f0d95-a51b-4f4f-afa6-6a4ae6d779d5",
   "metadata": {},
   "outputs": [
    {
     "name": "stdout",
     "output_type": "stream",
     "text": [
      "trying normal tests:\n",
      "OK\n",
      "tests with errors:\n",
      "OK\n",
      "OK\n",
      "Ufrcg1ykbn\n"
     ]
    }
   ],
   "source": [
    "print(\"trying normal tests:\")\n",
    "ok = True\n",
    "for i in range(15):\n",
    "    url = gen_url()\n",
    "    alias = create_link_grpc(url)\n",
    "    url_got = get_link_grpc(alias)\n",
    "    if url != url_got:\n",
    "        ok = False\n",
    "        print(f\"Got wrong results:\\nurl:{url}\\nalias:{alias}\\ngot url:{url_got}\")\n",
    "        break\n",
    "if ok:\n",
    "    print(\"OK\")\n",
    "\n",
    "print(\"tests with errors:\")\n",
    "\n",
    "ok = True\n",
    "url = gen_url()\n",
    "alias = create_link_grpc(url)\n",
    "result = create_link_grpc(url)\n",
    "if create_link_grpc(url) == \"ALREADY_EXISTS\":\n",
    "    print(\"OK\")\n",
    "else:\n",
    "    print(f\"Got wrong results:\\nurl:{url}\\nalias:{alias}\\nresult:{result}\")\n",
    "\n",
    "result = get_link_grpc(\"0123456789\")\n",
    "if result == \"NOT_FOUND\":\n",
    "    print(\"OK\")\n",
    "else:\n",
    "    print(\"Wrong! Should be NOT_FOUND\")\n",
    "\n",
    "result = create_link_grpc(\"not-a-url-at-all\")\n",
    "print(result)"
   ]
  },
  {
   "cell_type": "code",
   "execution_count": 45,
   "id": "5b646b85-da5a-490f-8c8f-96851d2243eb",
   "metadata": {},
   "outputs": [
    {
     "name": "stdout",
     "output_type": "stream",
     "text": [
      "\u001b[1A\u001b[1B\u001b[0G\u001b[?25l[+] Running 1/0\n",
      " \u001b[33m\u001b[1m!\u001b[0m Network golinkcut_default  \u001b[33m\u001b[1mResource is s...\u001b[0m                             \u001b[34m0.0s \u001b[0m\n",
      "\u001b[?25h"
     ]
    }
   ],
   "source": [
    "!cd .. && sudo docker compose -f golinkcut_postgres-compose.yml down"
   ]
  },
  {
   "cell_type": "code",
   "execution_count": null,
   "id": "7b5b2c8c-ec81-429c-9068-39143907720b",
   "metadata": {},
   "outputs": [],
   "source": []
  }
 ],
 "metadata": {
  "kernelspec": {
   "display_name": "Python 3 (ipykernel)",
   "language": "python",
   "name": "python3"
  },
  "language_info": {
   "codemirror_mode": {
    "name": "ipython",
    "version": 3
   },
   "file_extension": ".py",
   "mimetype": "text/x-python",
   "name": "python",
   "nbconvert_exporter": "python",
   "pygments_lexer": "ipython3",
   "version": "3.11.6"
  }
 },
 "nbformat": 4,
 "nbformat_minor": 5
}
