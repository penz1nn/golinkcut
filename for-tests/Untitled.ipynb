{
 "cells": [
  {
   "cell_type": "markdown",
   "id": "836931e9-0586-478b-9c0c-87f16d33c97a",
   "metadata": {},
   "source": [
    "# API Tests"
   ]
  },
  {
   "cell_type": "code",
   "execution_count": 312,
   "id": "90475882-4a6e-4168-9c46-bb2b44025c98",
   "metadata": {},
   "outputs": [],
   "source": [
    "import random, string\n",
    "\n",
    "def gen_url():\n",
    "    letters = string.ascii_lowercase\n",
    "    protocols = [\"http://\", \"https://\", \"ftp://\"]\n",
    "    level1s = [\".com\", \".ru\", \".fr\", \".uk\"]\n",
    "    domain = ''.join(random.choice(letters) for i in range(8))\n",
    "    path = ''.join(random.choice(letters) for i in range(15))\n",
    "    return random.choice(protocols) + domain + random.choice(level1s) + \"/\" + path"
   ]
  },
  {
   "cell_type": "markdown",
   "id": "f257c25e-2d95-445a-ad75-2f058f49d57b",
   "metadata": {},
   "source": [
    "## 1. GRPC"
   ]
  },
  {
   "cell_type": "markdown",
   "id": "4771397c-e6f5-4951-bf3e-7908063aafd4",
   "metadata": {},
   "source": [
    "### 1.1 Set up"
   ]
  },
  {
   "cell_type": "code",
   "execution_count": 313,
   "id": "c5adbc03-b527-429f-b194-19ddae4de6e8",
   "metadata": {},
   "outputs": [],
   "source": [
    "!python -m grpc_tools.protoc -I../api/proto/ --python_out=. --pyi_out=. --grpc_python_out=. ../api/proto/links.proto"
   ]
  },
  {
   "cell_type": "code",
   "execution_count": 314,
   "id": "d074fe8e-1e76-4fef-8145-4ad5d3bb2d35",
   "metadata": {},
   "outputs": [],
   "source": [
    "import grpc\n",
    "import links_pb2_grpc\n",
    "\n",
    "channel = grpc.insecure_channel('localhost:50051')\n",
    "stub = links_pb2_grpc.LinkServiceStub(channel)"
   ]
  },
  {
   "cell_type": "code",
   "execution_count": 315,
   "id": "74aef32f-1d2c-4aed-beca-20c97d1ac77c",
   "metadata": {},
   "outputs": [],
   "source": [
    "import links_pb2\n",
    "import re\n",
    "\n",
    "status_pattern = re.compile(\"StatusCode.([A-Z_]+)\\n\")\n",
    "\n",
    "def extract_error(string):\n",
    "    return status_pattern.search(string).group(1)\n",
    "\n",
    "def create_link_grpc(url):\n",
    "    try:\n",
    "        request = links_pb2.CreateLinkRequest(url=str(url))\n",
    "        result = stub.CreateLink(request)\n",
    "        return result.alias\n",
    "    except grpc.RpcError as e:\n",
    "        return extract_error(str(e))\n",
    "        \n",
    "\n",
    "def get_link_grpc(alias):\n",
    "    try:\n",
    "        request = links_pb2.GetLinkRequest(alias=str(alias))\n",
    "        result = stub.GetLink(request)\n",
    "        return result.url\n",
    "    except grpc.RpcError as e:\n",
    "        return extract_error(str(e))\n",
    "\n",
    "def grpc_must_already_exists(url):\n",
    "    return create_link_grpc(url) == \"ALREADY_EXISTS\"\n",
    "\n",
    "def grpc_must_not_found(alias):\n",
    "    return get_link_grpc(url) == \"NOT_FOUND\"\n",
    "\n",
    "def grpc_must_bad_input(url):\n",
    "    return create_link_grpc(url) == \"INVALID_ARGUMENT\"\n",
    "\n",
    "def grpc_must_ok():\n",
    "    url = gen_url()\n",
    "    alias = create_link_grpc(url)\n",
    "    resp = get_link_grpc(alias)\n",
    "    res = resp == url\n",
    "    if not res:\n",
    "        print(f\"Wrong result for:\\nurl: {url}\\nalias: {alias}\\ngot response: {resp}\")\n",
    "    return res"
   ]
  },
  {
   "cell_type": "markdown",
   "id": "35fdb913-f87e-40a0-afcc-e448029d1f14",
   "metadata": {},
   "source": [
    "### 1.2 Run tests"
   ]
  },
  {
   "cell_type": "code",
   "execution_count": 316,
   "id": "8a4f0d95-a51b-4f4f-afa6-6a4ae6d779d5",
   "metadata": {},
   "outputs": [
    {
     "name": "stdout",
     "output_type": "stream",
     "text": [
      "Running normal tests...\n",
      "Pass\n",
      "Running error handling tests...\n",
      "OK\n",
      "OK\n",
      "OK\n"
     ]
    }
   ],
   "source": [
    "print(\"Running normal tests...\")\n",
    "GRPC_DEFAULT_OK = True\n",
    "for i in range(100):\n",
    "    if not grpc_must_ok():\n",
    "        GRPC_DEFAULT_OK = False\n",
    "if GRPC_DEFAULT_OK:\n",
    "    print(\"Pass\")\n",
    "else:\n",
    "    print(\"Tests failed!!!\")\n",
    "\n",
    "print(\"Running error handling tests...\")\n",
    "GRPC_ERRHANDLING_OK = True\n",
    "url = gen_url()\n",
    "alias = create_link_grpc(url)\n",
    "if grpc_must_already_exists(url):\n",
    "    print(\"OK\")\n",
    "else:\n",
    "    print(f\"Could not get ERROR_EXISTS_ALREADY\")\n",
    "    GRPC_ERRHANDLING_OK = False\n",
    "\n",
    "if grpc_must_not_found(\"0123456789\"):\n",
    "    print(\"OK\")\n",
    "else:\n",
    "    print(\"Could not get NOT_FOUND_ERROR\")\n",
    "    GRPC_ERRHANDLING_OK = False\n",
    "\n",
    "if grpc_must_bad_input(\"not-a-url-at-all\"):\n",
    "    print(\"OK\")\n",
    "else:\n",
    "    print(f\"Wrong! Should be INVALID_ARGUMENT\")\n",
    "    GRPC_ERRHANDLING_OK = False"
   ]
  },
  {
   "cell_type": "markdown",
   "id": "8b6fe7bf-a3c6-42db-91df-7f928e473067",
   "metadata": {},
   "source": [
    "## 2. REST API"
   ]
  },
  {
   "cell_type": "markdown",
   "id": "72158df9-ec66-47b2-b24e-306778f6fd84",
   "metadata": {},
   "source": [
    "### 2.1. Preapare"
   ]
  },
  {
   "cell_type": "code",
   "execution_count": 317,
   "id": "8301f625-4a08-40a7-9e98-7aa4167bf547",
   "metadata": {},
   "outputs": [],
   "source": [
    "import urllib3 \n",
    "\n",
    "http = urllib3.PoolManager()"
   ]
  },
  {
   "cell_type": "code",
   "execution_count": 318,
   "id": "a3fd69b6-b2bf-4eab-9f20-584a22439cd1",
   "metadata": {},
   "outputs": [],
   "source": [
    "import json\n",
    "import requests\n",
    "\n",
    "def create_link_rest(url):\n",
    "    data = json.dumps({\n",
    "        \"url\": url,\n",
    "    })\n",
    "    r = http.request(\n",
    "        'POST',\n",
    "        'http://localhost:8080/new',\n",
    "        headers = {\n",
    "            'Content-Type': 'application/json'\n",
    "        },\n",
    "        body = data\n",
    "    )\n",
    "    return r\n",
    "\n",
    "def get_link(alias):\n",
    "    request_url = f\"http://localhost:8080/{alias}\"\n",
    "    r = requests.get(request_url, allow_redirects=False)\n",
    "    return r\n",
    "\n",
    "def http_must_ok():\n",
    "    generated_url = gen_url()\n",
    "    response = create_link_rest(generated_url)\n",
    "    alias = str(response.json()['shortLink'][-10:])\n",
    "    response = get_link(alias)\n",
    "    if response.status_code == 302:\n",
    "        got_url = response.headers.get(\"Location\")\n",
    "    else:\n",
    "        got_url = response.json().get(\"url\")\n",
    "    if got_url != generated_url:\n",
    "        print(f\"Error! Want: {generated_url}, got: {got_url}\")\n",
    "        return False\n",
    "    return True"
   ]
  },
  {
   "cell_type": "markdown",
   "id": "f2d55faf-eb84-49d9-82c3-fd916e17db0c",
   "metadata": {},
   "source": [
    "### 2.2 Run tests"
   ]
  },
  {
   "cell_type": "code",
   "execution_count": 319,
   "id": "7136b886-3f60-40fd-b12a-15cdae840624",
   "metadata": {},
   "outputs": [
    {
     "name": "stdout",
     "output_type": "stream",
     "text": [
      "Runnning default tests...\n",
      "Pass\n"
     ]
    }
   ],
   "source": [
    "HTTP_DEFAULT_OK = True\n",
    "print(\"Runnning default tests...\")\n",
    "for i in range(100):\n",
    "    if not http_must_ok():\n",
    "        HTTP_DEFAULT_OK = False\n",
    "if not HTTP_DEFAULT_OK:\n",
    "    print(\"Test Failed\")\n",
    "else:\n",
    "    print(\"Pass\")"
   ]
  },
  {
   "cell_type": "code",
   "execution_count": 320,
   "id": "3f0579f1-e033-4c54-bb98-5319297e9387",
   "metadata": {},
   "outputs": [
    {
     "name": "stdout",
     "output_type": "stream",
     "text": [
      "Running errors tests...\n",
      "OK\n",
      "OK\n",
      "OK\n"
     ]
    }
   ],
   "source": [
    "HTTP_ERRHANDLING_OK = True\n",
    "print(\"Running errors tests...\")\n",
    "\n",
    "alias_404 = \"0010010011\"\n",
    "response = get_link(alias_404)\n",
    "if response.status_code == 404:\n",
    "    print(\"OK\")\n",
    "else:\n",
    "    HTTP_ERRHANDLING_OK = False\n",
    "    print(f\"Error! Expected code 404 but got {response.status_code}\")\n",
    "\n",
    "generated_url = gen_url()\n",
    "response = create_link_rest(generated_url)\n",
    "response = create_link_rest(generated_url)\n",
    "if response.status == 409:\n",
    "    print(\"OK\")\n",
    "else:\n",
    "    print(f\"Error! Expected code 409 but got {response.status}\")\n",
    "    HTTP_ERRHANDLING_OK = False\n",
    "\n",
    "response = create_link_rest(\"not-a-url-at-all\")\n",
    "if response.status == 400:\n",
    "    print(\"OK\")\n",
    "else:\n",
    "    print(f\"Error! Expected code 400 but got {response.status_code}\")\n",
    "    HTTP_ERRHANDLING_OK = False"
   ]
  },
  {
   "cell_type": "markdown",
   "id": "975ccaaf-1094-4ada-ba71-91d795afa20f",
   "metadata": {},
   "source": [
    "## 3. Both"
   ]
  },
  {
   "cell_type": "code",
   "execution_count": 321,
   "id": "ef7d7a93-40d6-437f-84d7-96bb17f2b504",
   "metadata": {},
   "outputs": [
    {
     "name": "stdout",
     "output_type": "stream",
     "text": [
      "Running mixed default test...\n",
      "Pass\n"
     ]
    }
   ],
   "source": [
    "MIXED_DEFAULT_OK = True\n",
    "print(\"Running mixed default test...\")\n",
    "for i in range(100):\n",
    "    if not http_must_ok() or not grpc_must_ok():\n",
    "        MIXED_DEFAULT_OK = False\n",
    "    if not (http_must_ok() and http_must_ok()) or not (grpc_must_ok() and grpc_must_ok()):\n",
    "        MIXED_DEFAULT_OK = False\n",
    "if MIXED_DEFAULT_OK:\n",
    "    print(\"Pass\")\n",
    "else:\n",
    "    print(\"Tests failed!!!\")"
   ]
  },
  {
   "cell_type": "code",
   "execution_count": 322,
   "id": "f59e4397-dd5a-46d2-9264-2fb6550c8d49",
   "metadata": {},
   "outputs": [
    {
     "name": "stdout",
     "output_type": "stream",
     "text": [
      "OK\n",
      "OK\n"
     ]
    }
   ],
   "source": [
    "MIXED_ERRHANDLING_OK = True\n",
    "\n",
    "generated_url = gen_url()\n",
    "create_link_rest(generated_url)\n",
    "result = grpc_must_already_exists(generated_url)\n",
    "if result == True:\n",
    "    print(\"OK\")\n",
    "else:\n",
    "    MIXED_ERRHANDLING_OK = False\n",
    "    print(f\"Expected to get ALREADY_EXISTS error from GRPC but got {result}\")\n",
    "\n",
    "generated_url = gen_url()\n",
    "create_link_grpc(generated_url)\n",
    "response = create_link_rest(generated_url)\n",
    "if response.status == 409:\n",
    "    print(\"OK\")\n",
    "else:\n",
    "    print(f\"Error! Expected code 409 but got {response.status}\")\n",
    "    MIXED_ERRHANDLING_OK = False"
   ]
  },
  {
   "cell_type": "markdown",
   "id": "14167530-b9ed-45b6-9413-40f4e67f07dd",
   "metadata": {},
   "source": [
    "# Results"
   ]
  },
  {
   "cell_type": "code",
   "execution_count": 323,
   "id": "56a8d447-a92c-46be-9157-b4c0f378257e",
   "metadata": {},
   "outputs": [
    {
     "name": "stdout",
     "output_type": "stream",
     "text": [
      "SUCCESS: All tests have passed\n"
     ]
    }
   ],
   "source": [
    "if GRPC_DEFAULT_OK and GRPC_ERRHANDLING_OK and HTTP_DEFAULT_OK and HTTP_ERRHANDLING_OK and MIXED_DEFAULT_OK and MIXED_ERRHANDLING_OK:\n",
    "    print(\"SUCCESS: All tests have passed\")\n",
    "else:\n",
    "    print(\"FAIL: Some tests failed!!!\")"
   ]
  }
 ],
 "metadata": {
  "kernelspec": {
   "display_name": "Python 3 (ipykernel)",
   "language": "python",
   "name": "python3"
  },
  "language_info": {
   "codemirror_mode": {
    "name": "ipython",
    "version": 3
   },
   "file_extension": ".py",
   "mimetype": "text/x-python",
   "name": "python",
   "nbconvert_exporter": "python",
   "pygments_lexer": "ipython3",
   "version": "3.11.6"
  }
 },
 "nbformat": 4,
 "nbformat_minor": 5
}
